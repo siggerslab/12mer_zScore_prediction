{
 "metadata": {
  "name": "",
  "signature": "sha256:bb382aa8f8387cf5c5bfec789d8119a1cc3c94e7862c61304f06dd43b50a9bb2"
 },
 "nbformat": 3,
 "nbformat_minor": 0,
 "worksheets": [
  {
   "cells": [
    {
     "cell_type": "heading",
     "level": 1,
     "metadata": {},
     "source": [
      "Conversion of PBM Dataset from 10-mer to a pseudo12-mer"
     ]
    },
    {
     "cell_type": "heading",
     "level": 2,
     "metadata": {},
     "source": [
      "Setup"
     ]
    },
    {
     "cell_type": "heading",
     "level": 3,
     "metadata": {},
     "source": [
      "Libraries"
     ]
    },
    {
     "cell_type": "code",
     "collapsed": false,
     "input": [
      "import copy\n",
      "import csv\n",
      "import pandas as pd\n",
      "import numpy as np\n",
      "import scipy as scipy\n",
      "import math\n",
      "import matplotlib.pyplot as plt\n",
      "from matplotlib_venn import venn3, venn3_circles, venn2, venn2_circles\n",
      "import itertools\n",
      "from copy import deepcopy\n",
      "from collections import defaultdict\n",
      "from datetime import datetime\n",
      "pd.options.display.mpl_style = 'default'"
     ],
     "language": "python",
     "metadata": {},
     "outputs": [],
     "prompt_number": 54
    },
    {
     "cell_type": "heading",
     "level": 3,
     "metadata": {},
     "source": [
      "IPython Notebook related commands"
     ]
    },
    {
     "cell_type": "code",
     "collapsed": false,
     "input": [
      "%matplotlib inline\n",
      "#%pylab inline"
     ],
     "language": "python",
     "metadata": {},
     "outputs": [],
     "prompt_number": 56
    },
    {
     "cell_type": "heading",
     "level": 3,
     "metadata": {},
     "source": [
      "Helper Functions"
     ]
    },
    {
     "cell_type": "code",
     "collapsed": false,
     "input": [
      "def strip_flanks(flanked_seq):\n",
      "    return flanked_seq[13:-13]\n",
      "\n",
      "def reverse_complement(seq):\n",
      "    complement_code = dict( zip( \"ATCGNatcgn\" , \"TAGCNtagcn\" ) )\n",
      "    return \"\".join( complement_code[nuc] for nuc in seq[::-1] )"
     ],
     "language": "python",
     "metadata": {},
     "outputs": [],
     "prompt_number": 57
    },
    {
     "cell_type": "heading",
     "level": 3,
     "metadata": {},
     "source": [
      "Read in pre-parsed data"
     ]
    },
    {
     "cell_type": "code",
     "collapsed": false,
     "input": [
      "#Nv nfkb pbm data (along with human p50 pbm data)\n",
      "nv_pbm_data_column_titles = [\"probeID\",\"sequence\",\\\n",
      "#Columns for fluorescent values below:\n",
      "\"nv_nfkb_c\",\\\n",
      "\"nv_nfkb_s\",\\\n",
      "\"hs_crel\",\\\n",
      "\"hs_p50\"]\n",
      "\n",
      "gfix_ztrans_t1000_data = pd.read_csv(\"./NvNFkB_PBM_data/data_matrix/gfix_ztrans_t1000_o1o2_0.6mean_5Gfilter.dat\",\\\n",
      "                        skiprows=[],delimiter=\"\\t\",header=None)\n",
      "ztrans_genomic = pd.read_csv(\"./NvNFkB_PBM_data/data_matrix/ztrans_genomic_o1o2_0.6mean_5Gfilter.dat\",\\\n",
      "                        skiprows=[],delimiter=\"\\t\",header=None)\n",
      "\n",
      "#columns 15, 16 are the average replicate experiments for nv nfkb c and s\n",
      "nv_pbm_genomic = ztrans_genomic.iloc[:,[0,1,15,16,5,6]].copy(deep=True)\n",
      "del ztrans_genomic\n",
      "nv_pbm_genomic.columns = nv_pbm_data_column_titles\n",
      "\n",
      "#columns 15, 16 are the average replicate experiments for nv nfkb c and s\n",
      "nv_pbm_predicted = gfix_ztrans_t1000_data.iloc[:,[0,1,15,16,5,6]].copy(deep=True)\n",
      "del gfix_ztrans_t1000_data\n",
      "\n",
      "nv_pbm_predicted.columns = nv_pbm_data_column_titles\n",
      "nv_pbm_predicted[\"sequence_flanked\"] = nv_pbm_predicted.sequence\n",
      "nv_pbm_predicted.sequence = [strip_flanks(i) for i in nv_pbm_predicted.sequence_flanked]\n",
      "nv_pbm_predicted.head()\n",
      "nv_pbm_predicted.drop(\"sequence_flanked\",axis=1,inplace=True)"
     ],
     "language": "python",
     "metadata": {},
     "outputs": [],
     "prompt_number": 58
    },
    {
     "cell_type": "heading",
     "level": 2,
     "metadata": {},
     "source": [
      "Let's try the Guanine features only just like in Nat. Imm."
     ]
    },
    {
     "cell_type": "heading",
     "level": 3,
     "metadata": {},
     "source": [
      "Different Guanine feature extraction methods"
     ]
    },
    {
     "cell_type": "code",
     "collapsed": false,
     "input": [
      "def seq_to_G_features_14(seq):\n",
      "    G_features = [0]*20\n",
      "    \n",
      "    if seq.startswith(\"GG\"):\n",
      "       \n",
      "\n",
      "        G_features[6:10] = seq_to_G_features_1(seq[1:-1])[1:5]\n",
      "        if sum(seq_to_G_features_1(seq[1:-1])[1:5])==0:\n",
      "            G_features[0]=1\n",
      "        \n",
      "    else:\n",
      "        G_features[1:6] = seq_to_G_features_1(seq[1:-1])[0:5]\n",
      "        \n",
      "        \n",
      "    if seq.endswith(\"CC\"):\n",
      "       \n",
      "\n",
      "        G_features[10:14] = seq_to_G_features_1(seq[1:-1])[5:9]\n",
      "        if sum(seq_to_G_features_1(seq[1:-1])[5:9])==0:\n",
      "            G_features[-1]=1      \n",
      "        \n",
      "        \n",
      "    else:\n",
      "        G_features[14:19]=seq_to_G_features_1(seq[1:-1])[5:10]\n",
      "        \n",
      "\n",
      "\n",
      "        \n",
      "\n",
      "    \n",
      "    return G_features"
     ],
     "language": "python",
     "metadata": {},
     "outputs": [],
     "prompt_number": 63
    },
    {
     "cell_type": "code",
     "collapsed": false,
     "input": [
      "def seq_to_G_features_G(seq):\n",
      "    G_features = [0]*12\n",
      "    \n",
      "    if seq.startswith('G'):\n",
      "        for i in range(0,6):\n",
      "            if seq[i]=='G':\n",
      "                G_features[i]=1\n",
      "                \n",
      "    if seq.endswith('C'):\n",
      "        for i in range(6,12):\n",
      "            if seq[i]=='C':\n",
      "                G_features[i]=1\n",
      "    return G_features\n"
     ],
     "language": "python",
     "metadata": {},
     "outputs": [],
     "prompt_number": 64
    },
    {
     "cell_type": "code",
     "collapsed": false,
     "input": [
      "def seq_to_G_features_12(seq):\n",
      "    G_features = [0]*12\n",
      "    left_G_counter = 0\n",
      "    right_G_counter = 0\n",
      "\n",
      "    for i in range(1,7): \n",
      "        if seq.startswith('G'*i): \n",
      "            left_G_counter +=1\n",
      "        else: break\n",
      "            \n",
      "    for i in range(1,7): \n",
      "        if seq.endswith('C'*i): \n",
      "            right_G_counter +=1\n",
      "        else: break       \n",
      "            \n",
      "    if left_G_counter: G_features[left_G_counter-1] = 1\n",
      "    if right_G_counter: G_features[-right_G_counter] = 1\n",
      "    #print left_G_counter, right_G_counter\n",
      "    return G_features"
     ],
     "language": "python",
     "metadata": {},
     "outputs": [],
     "prompt_number": 65
    },
    {
     "cell_type": "code",
     "collapsed": false,
     "input": [
      "def seq_to_G_features_M(seq):\n",
      "    left_G_counter = 0\n",
      "    right_G_counter = 0\n",
      "\n",
      "    for i in range(1,6): \n",
      "        if seq.startswith('G'*i): \n",
      "            left_G_counter +=1\n",
      "        else: break\n",
      "            \n",
      "    for i in range(1,6): \n",
      "        if seq.endswith('C'*i): \n",
      "            right_G_counter +=1\n",
      "        else: break       \n",
      "            \n",
      "    return [1]*left_G_counter+ [0]*(5-left_G_counter)+ [0]*(5-right_G_counter)+right_G_counter*[1]"
     ],
     "language": "python",
     "metadata": {},
     "outputs": [],
     "prompt_number": 66
    },
    {
     "cell_type": "code",
     "collapsed": false,
     "input": [
      "def seq_to_G_features_H(seq):\n",
      "    G_features = [0]*10\n",
      "    i=1\n",
      "    for i in range(1,6):\n",
      "        #print i\n",
      "        if seq.startswith(\"G\"*i) and seq[i:5].find(\"G\")==-1:\n",
      "            #print 'in'\n",
      "            G_features[i-1]=1\n",
      "            break\n",
      "    \n",
      "    for i in range(1,6):\n",
      "        if seq.endswith(\"C\"*i) and seq[7:12-i].find(\"C\")==-1:\n",
      "            G_features[-i] = 1\n",
      "    \n",
      "    return G_features\n",
      "            \n"
     ],
     "language": "python",
     "metadata": {},
     "outputs": [],
     "prompt_number": 67
    },
    {
     "cell_type": "heading",
     "level": 3,
     "metadata": {},
     "source": [
      "Following simple feature extraction function captures most of the variation"
     ]
    },
    {
     "cell_type": "markdown",
     "metadata": {},
     "source": [
      "10 flags to keep the following info\n",
      "\n",
      "- 1 0 0 0 0 | 0 0 0 0 1 : GHXXXXXXXXHG\n",
      "\n",
      "- 0 1 0 0 0 | 0 0 0 1 0 : GGHXXXXXXHGG \n",
      "\n",
      "- 0 1 0 0 0 | 0 0 1 0 0 : GGHXXXXXHGGG \n",
      "\n",
      "- so on.\n",
      "\n",
      "don't care about the inner most 2 nucleotides, hence 10 flags"
     ]
    },
    {
     "cell_type": "code",
     "collapsed": false,
     "input": [
      "def seq_to_G_features_1(seq):\n",
      "    G_features = [0]*10\n",
      "    left_G_counter = 0\n",
      "    right_G_counter = 0\n",
      "\n",
      "    for i in range(1,6): \n",
      "        if seq.startswith('G'*i): \n",
      "            left_G_counter +=1\n",
      "        else: break\n",
      "            \n",
      "    for i in range(1,6): \n",
      "        if seq.endswith('C'*i): \n",
      "            right_G_counter +=1\n",
      "        else: break       \n",
      "            \n",
      "    if left_G_counter: G_features[left_G_counter-1] = 1\n",
      "    if right_G_counter: G_features[-right_G_counter] = 1\n",
      "    #print left_G_counter, right_G_counter\n",
      "    return G_features"
     ],
     "language": "python",
     "metadata": {},
     "outputs": [],
     "prompt_number": 75
    },
    {
     "cell_type": "code",
     "collapsed": false,
     "input": [
      "def seq_to_G_features_2(seq):\n",
      "    G_features = [0]*10\n",
      "    left_G_counter = 0\n",
      "    right_G_counter = 0\n",
      "\n",
      "    for i in range(1,6): \n",
      "        if seq.startswith('G'*i): \n",
      "            left_G_counter +=1\n",
      "        else: break\n",
      "            \n",
      "    for i in range(1,6): \n",
      "        if seq.endswith('C'*i): \n",
      "            right_G_counter +=1\n",
      "        else: break       \n",
      "    \n",
      "    left_G_counter , right_G_counter = max(left_G_counter,right_G_counter),min(left_G_counter,right_G_counter)\n",
      "            \n",
      "    if left_G_counter: G_features[left_G_counter-1] = 1\n",
      "    if right_G_counter: G_features[-right_G_counter] = 1\n",
      "    #print left_G_counter, right_G_counter\n",
      "    return G_features"
     ],
     "language": "python",
     "metadata": {},
     "outputs": [],
     "prompt_number": 76
    },
    {
     "cell_type": "code",
     "collapsed": false,
     "input": [
      "def seq_to_G_features_3(seq):\n",
      "    G_features = [0]*10\n",
      "    left_G_counter = 0\n",
      "    right_G_counter = 0\n",
      "\n",
      "    for i in range(1,6): \n",
      "        if seq.startswith('G'*i): \n",
      "            left_G_counter +=1\n",
      "        else: break\n",
      "            \n",
      "    for i in range(1,6): \n",
      "        if seq.endswith('C'*i): \n",
      "            right_G_counter +=1\n",
      "        else: break       \n",
      "            \n",
      "    temp_list = [left_G_counter,right_G_counter]\n",
      "    left_G_counter =  random.choice(temp_list)\n",
      "    temp_list.remove(left_G_counter)\n",
      "    right_G_counter = temp_list[0]\n",
      "\n",
      "    if left_G_counter: G_features[left_G_counter-1] = 1\n",
      "    if right_G_counter: G_features[-right_G_counter] = 1\n",
      "    #print left_G_counter, right_G_counter\n",
      "    return G_features"
     ],
     "language": "python",
     "metadata": {},
     "outputs": [],
     "prompt_number": 77
    },
    {
     "cell_type": "code",
     "collapsed": false,
     "input": [
      "from itertools import combinations_with_replacement"
     ],
     "language": "python",
     "metadata": {},
     "outputs": [],
     "prompt_number": 78
    },
    {
     "cell_type": "code",
     "collapsed": false,
     "input": [
      "def seq_to_G_features_4(seq):\n",
      "    G_features = [0]*21\n",
      "    left_G_counter = 0\n",
      "    right_G_counter = 0\n",
      "\n",
      "    for i in range(1,6): \n",
      "        if seq.startswith('G'*i): \n",
      "            left_G_counter +=1\n",
      "        else: break\n",
      "            \n",
      "    for i in range(1,6): \n",
      "        if seq.endswith('C'*i): \n",
      "            right_G_counter +=1\n",
      "        else: break       \n",
      "        \n",
      "    G_combinations = []\n",
      "    for n in combinations_with_replacement(range(0,6),2):\n",
      "        G_combinations.append(n)\n",
      "\n",
      "    G_s = (min(left_G_counter,right_G_counter),max(left_G_counter,right_G_counter))\n",
      "    G_features[  G_combinations.index(G_s)   ] = 1\n",
      "\n",
      "    \"\"\"\n",
      "    0 (0, 1)\n",
      "    1 (0, 2)\n",
      "    2 (0, 3)\n",
      "    3 (0, 4)\n",
      "    4 (0, 5)\n",
      "    5 (1, 1)\n",
      "    6 (1, 2)\n",
      "    7 (1, 3)\n",
      "    8 (1, 4)\n",
      "    9 (1, 5)\n",
      "    10 (2, 2)\n",
      "    11 (2, 3)\n",
      "    12 (2, 4)\n",
      "    13 (2, 5)\n",
      "    14 (3, 3)\n",
      "    15 (3, 4)\n",
      "    16 (3, 5)\n",
      "    17 (4, 4)\n",
      "    18 (4, 5)\n",
      "    19 (5, 5)\n",
      "    \"\"\"\n",
      "    \n",
      "    return G_features[1:]"
     ],
     "language": "python",
     "metadata": {},
     "outputs": [],
     "prompt_number": 79
    },
    {
     "cell_type": "code",
     "collapsed": false,
     "input": [
      "def seq_to_G_features_5(seq):\n",
      "    G_features = [0]*21\n",
      "    left_G_counter = 0\n",
      "    right_G_counter = 0\n",
      "\n",
      "    for i in range(1,6): \n",
      "        if seq.startswith('G'*i): \n",
      "            left_G_counter +=1\n",
      "        else: break\n",
      "            \n",
      "    for i in range(1,6): \n",
      "        if seq.endswith('C'*i): \n",
      "            right_G_counter +=1\n",
      "        else: break       \n",
      "        \n",
      "    G_combinations = []\n",
      "    for n in combinations_with_replacement(range(0,6),2):\n",
      "        G_combinations.append(n)\n",
      "\n",
      "    G_s = (min(left_G_counter,right_G_counter),max(left_G_counter,right_G_counter))\n",
      "    G_features[  G_combinations.index(G_s)   ] = 1\n",
      "\n",
      "    \"\"\"\n",
      "    0 (0, 0)\n",
      "    1 (0, 1)\n",
      "    2 (0, 2)\n",
      "    3 (0, 3)\n",
      "    4 (0, 4)\n",
      "    5 (0, 5)\n",
      "    6 (1, 1)\n",
      "    7 (1, 2)\n",
      "    8 (1, 3)\n",
      "    9 (1, 4)\n",
      "    10 (1, 5)\n",
      "    11 (2, 2)\n",
      "    12 (2, 3)\n",
      "    13 (2, 4)\n",
      "    14 (2, 5)\n",
      "    15 (3, 3)\n",
      "    16 (3, 4)\n",
      "    17 (3, 5)\n",
      "    18 (4, 4)\n",
      "    19 (4, 5)\n",
      "    20 (5, 5)\n",
      "    \"\"\"\n",
      "    \n",
      "    return G_features"
     ],
     "language": "python",
     "metadata": {},
     "outputs": [],
     "prompt_number": 80
    },
    {
     "cell_type": "markdown",
     "metadata": {},
     "source": [
      "Training Bookmark"
     ]
    },
    {
     "cell_type": "code",
     "collapsed": false,
     "input": [
      "#to hold the dummy variables\n",
      "nv_pbm_genomic_X = []\n",
      "#to hold the weights\n",
      "nv_pbm_genomic_y = []"
     ],
     "language": "python",
     "metadata": {},
     "outputs": [],
     "prompt_number": 85
    },
    {
     "cell_type": "code",
     "collapsed": false,
     "input": [
      "#This one works the way you described: best matching z-score\n",
      "\n",
      "\"\"\"\n",
      "#we are trying the model on hs p50 first since eventually we will use the human p50 chip data\n",
      "#model_tf = \"nv_nfkb_c\"\n",
      "#model_tf = \"nv_nfkb_s\"\n",
      "#model_tf = \"hs_crel\"\n",
      "model_tf = \"hs_p50\"\n",
      "import operator\n",
      "\n",
      "temp_count = 0\n",
      "k=3#for k nucleotide up down\n",
      "for index, row in nv_pbm_genomic.iterrows():\n",
      "    seqs = {}\n",
      "    for i in range(12-k,13+k):\n",
      "        genomic_12mer = row.sequence[i:i+12]\n",
      "        hit = nv_pbm_predicted.loc[nv_pbm_predicted.sequence==genomic_12mer[1:11]][model_tf]\n",
      "        if not hit.empty:\n",
      "            #print \"hit\"\n",
      "            hit.reset_index(drop=True,inplace=True)\n",
      "            if not pd.isnull(hit[0]):\n",
      "                #print \"forward\"\n",
      "                seqs[genomic_12mer] =  float(hit)\n",
      "                #print genomic_12mer, float(hit)\n",
      "    for i in range(12-k,13+k):\n",
      "        genomic_12mer = reverse_complement(row.sequence)[i:i+12]\n",
      "        hit = nv_pbm_predicted.loc[nv_pbm_predicted.sequence==genomic_12mer[1:11]][model_tf]\n",
      "        if not hit.empty:\n",
      "            #print \"hit\"\n",
      "            hit.reset_index(drop=True,inplace=True)\n",
      "            if not pd.isnull(hit[0]):\n",
      "                #print \"reverse\"\n",
      "                seqs[genomic_12mer] =  float(hit)\n",
      "                #print genomic_12mer, float(hit)\n",
      "\n",
      "\n",
      "    if seqs:\n",
      "        #print \"_____________\"\n",
      "        best_genomic_12mer  = max(seqs.iteritems(), key=operator.itemgetter(1))[0]\n",
      "        \n",
      "        pred_10mer_z = seqs[best_genomic_12mer]\n",
      "        #print \"best:\" ,best_genomic_12mer, pred_10mer_z\n",
      "        #print \"____end______\"\n",
      "        \n",
      "        if not math.isnan( row[model_tf] - pred_10mer_z ):\n",
      "            nv_pbm_genomic_X.append(seq_to_G_features_1(best_genomic_12mer))\n",
      "                #append z score ratio as weights\n",
      "            nv_pbm_genomic_y.append( row[model_tf] - pred_10mer_z )   \n",
      "        \n",
      "   \n",
      "    \n",
      "    \n",
      "    #if temp_count ==100: break  \n",
      "    temp_count+=1\n",
      "    if temp_count %1000 == 0: print temp_count\n",
      "    \n",
      "\"\"\""
     ],
     "language": "python",
     "metadata": {},
     "outputs": [
      {
       "metadata": {},
       "output_type": "pyout",
       "prompt_number": 87,
       "text": [
        "'\\n#we are trying the model on hs p50 first since eventually we will use the human p50 chip data\\n#model_tf = \"nv_nfkb_c\"\\n#model_tf = \"nv_nfkb_s\"\\n#model_tf = \"hs_crel\"\\nmodel_tf = \"hs_p50\"\\nimport operator\\n\\ntemp_count = 0\\nk=3#for k nucleotide up down\\nfor index, row in nv_pbm_genomic.iterrows():\\n    seqs = {}\\n    for i in range(12-k,13+k):\\n        genomic_12mer = row.sequence[i:i+12]\\n        hit = nv_pbm_predicted.loc[nv_pbm_predicted.sequence==genomic_12mer[1:11]][model_tf]\\n        if not hit.empty:\\n            #print \"hit\"\\n            hit.reset_index(drop=True,inplace=True)\\n            if not pd.isnull(hit[0]):\\n                #print \"forward\"\\n                seqs[genomic_12mer] =  float(hit)\\n                #print genomic_12mer, float(hit)\\n    for i in range(12-k,13+k):\\n        genomic_12mer = reverse_complement(row.sequence)[i:i+12]\\n        hit = nv_pbm_predicted.loc[nv_pbm_predicted.sequence==genomic_12mer[1:11]][model_tf]\\n        if not hit.empty:\\n            #print \"hit\"\\n            hit.reset_index(drop=True,inplace=True)\\n            if not pd.isnull(hit[0]):\\n                #print \"reverse\"\\n                seqs[genomic_12mer] =  float(hit)\\n                #print genomic_12mer, float(hit)\\n\\n\\n    if seqs:\\n        #print \"_____________\"\\n        best_genomic_12mer  = max(seqs.iteritems(), key=operator.itemgetter(1))[0]\\n        \\n        pred_10mer_z = seqs[best_genomic_12mer]\\n        #print \"best:\" ,best_genomic_12mer, pred_10mer_z\\n        #print \"____end______\"\\n        \\n        if not math.isnan( row[model_tf] - pred_10mer_z ):\\n            nv_pbm_genomic_X.append(seq_to_G_features_1(best_genomic_12mer))\\n                #append z score ratio as weights\\n            nv_pbm_genomic_y.append( row[model_tf] - pred_10mer_z )   \\n        \\n   \\n    \\n    \\n    #if temp_count ==100: break  \\n    temp_count+=1\\n    if temp_count %1000 == 0: print temp_count\\n    \\n'"
       ]
      }
     ],
     "prompt_number": 87
    },
    {
     "cell_type": "code",
     "collapsed": false,
     "input": [
      "#we are trying the model on hs p50 first since eventually we will use the human p50 chip data\n",
      "#model_tf = \"nv_nfkb_c\"\n",
      "#model_tf = \"nv_nfkb_s\"\n",
      "#model_tf = \"hs_crel\"\n",
      "model_tf = \"hs_p50\"\n",
      "\n",
      "import math\n",
      "i=12\n",
      "\n",
      "temp_count = 0\n",
      "for index,row in nv_pbm_predicted.iterrows():\n",
      "    pred_10mer_seq = row.sequence\n",
      "    pred_10mer_z = row[model_tf]\n",
      "    #print \"_______\"\n",
      "    for index2, row2 in  nv_pbm_genomic.loc[nv_pbm_genomic.sequence.str.contains(pred_10mer_seq)].iterrows():\n",
      "        genomic_seq =  row2.sequence\n",
      "        hit_index = genomic_seq.find(pred_10mer_seq)\n",
      "                \n",
      "            \n",
      "        #if hit_index > 0 and hit_index < 26 :\n",
      "        if hit_index >= i and hit_index <= 26-i :\n",
      "            genomic_12_mer_seq =  genomic_seq[hit_index-1:hit_index+11]\n",
      "            genomic_12_mer_z = row2[model_tf]\n",
      "        \n",
      "            #append dummy variables\n",
      "            #check if it really contains 12 nucleotides\n",
      "            if not math.isnan(genomic_12_mer_z-pred_10mer_z):\n",
      "                #print \"forward\"\n",
      "                #print genomic_12_mer_seq, pred_10mer_z\n",
      "                nv_pbm_genomic_X.append(seq_to_G_features_1(genomic_12_mer_seq))\n",
      "                #append z score ratio as weights\n",
      "                nv_pbm_genomic_y.append(genomic_12_mer_z-pred_10mer_z)        \n",
      "        \n",
      "    rc_pred_10mer_seq = reverse_complement(pred_10mer_seq)\n",
      "    \n",
      "    for index3, row3 in nv_pbm_genomic.loc[nv_pbm_genomic.sequence.str.contains(rc_pred_10mer_seq)].iterrows():\n",
      "        genomic_seq =  reverse_complement(row3.sequence)\n",
      "        hit_index = genomic_seq.find(pred_10mer_seq)\n",
      "        \n",
      "        if hit_index >=i and hit_index <= 26-i :\n",
      "            genomic_12_mer_seq =  genomic_seq[hit_index-1:hit_index+11]\n",
      "            genomic_12_mer_z = row3[model_tf]\n",
      "        \n",
      "            #append dummy variables\n",
      "            #check if it really contains 12 nucleotides\n",
      "            if not math.isnan(genomic_12_mer_z-pred_10mer_z):\n",
      "                #print \"reverse\"\n",
      "                #print genomic_12_mer_seq, pred_10mer_z\n",
      "                nv_pbm_genomic_X.append(seq_to_G_features_1(genomic_12_mer_seq))\n",
      "                #append z score ratio as weights\n",
      "                nv_pbm_genomic_y.append(genomic_12_mer_z-pred_10mer_z)        \n",
      "    \n",
      "    #if temp_count ==100: break  \n",
      "    temp_count+=1\n",
      "    if temp_count %100 == 0: print temp_count"
     ],
     "language": "python",
     "metadata": {},
     "outputs": [
      {
       "output_type": "stream",
       "stream": "stdout",
       "text": [
        "100\n",
        "200"
       ]
      },
      {
       "output_type": "stream",
       "stream": "stdout",
       "text": [
        "\n",
        "300"
       ]
      },
      {
       "output_type": "stream",
       "stream": "stdout",
       "text": [
        "\n",
        "400"
       ]
      },
      {
       "output_type": "stream",
       "stream": "stdout",
       "text": [
        "\n",
        "500"
       ]
      },
      {
       "output_type": "stream",
       "stream": "stdout",
       "text": [
        "\n",
        "600"
       ]
      },
      {
       "output_type": "stream",
       "stream": "stdout",
       "text": [
        "\n",
        "700"
       ]
      },
      {
       "output_type": "stream",
       "stream": "stdout",
       "text": [
        "\n",
        "800"
       ]
      },
      {
       "output_type": "stream",
       "stream": "stdout",
       "text": [
        "\n",
        "900"
       ]
      },
      {
       "output_type": "stream",
       "stream": "stdout",
       "text": [
        "\n",
        "1000"
       ]
      },
      {
       "output_type": "stream",
       "stream": "stdout",
       "text": [
        "\n",
        "1100"
       ]
      },
      {
       "output_type": "stream",
       "stream": "stdout",
       "text": [
        "\n",
        "1200"
       ]
      },
      {
       "output_type": "stream",
       "stream": "stdout",
       "text": [
        "\n",
        "1300"
       ]
      },
      {
       "output_type": "stream",
       "stream": "stdout",
       "text": [
        "\n",
        "1400"
       ]
      },
      {
       "output_type": "stream",
       "stream": "stdout",
       "text": [
        "\n",
        "1500"
       ]
      },
      {
       "output_type": "stream",
       "stream": "stdout",
       "text": [
        "\n",
        "1600"
       ]
      },
      {
       "output_type": "stream",
       "stream": "stdout",
       "text": [
        "\n",
        "1700"
       ]
      },
      {
       "output_type": "stream",
       "stream": "stdout",
       "text": [
        "\n",
        "1800"
       ]
      },
      {
       "output_type": "stream",
       "stream": "stdout",
       "text": [
        "\n",
        "1900"
       ]
      },
      {
       "output_type": "stream",
       "stream": "stdout",
       "text": [
        "\n",
        "2000"
       ]
      },
      {
       "output_type": "stream",
       "stream": "stdout",
       "text": [
        "\n",
        "2100"
       ]
      },
      {
       "output_type": "stream",
       "stream": "stdout",
       "text": [
        "\n",
        "2200"
       ]
      },
      {
       "output_type": "stream",
       "stream": "stdout",
       "text": [
        "\n",
        "2300"
       ]
      },
      {
       "output_type": "stream",
       "stream": "stdout",
       "text": [
        "\n",
        "2400"
       ]
      },
      {
       "output_type": "stream",
       "stream": "stdout",
       "text": [
        "\n",
        "2500"
       ]
      },
      {
       "output_type": "stream",
       "stream": "stdout",
       "text": [
        "\n",
        "2600"
       ]
      },
      {
       "output_type": "stream",
       "stream": "stdout",
       "text": [
        "\n"
       ]
      }
     ],
     "prompt_number": 88
    },
    {
     "cell_type": "code",
     "collapsed": false,
     "input": [
      "import matplotlib.pyplot as plt\n",
      "import numpy as np\n",
      "from sklearn import datasets, linear_model, metrics\n",
      "\n",
      "#to hold the dummy variables\n",
      "nv_pbm_genomic_X = np.array(nv_pbm_genomic_X)\n",
      "#to hold the weights\n",
      "nv_pbm_genomic_y = np.array(nv_pbm_genomic_y)\n"
     ],
     "language": "python",
     "metadata": {},
     "outputs": [],
     "prompt_number": 96
    },
    {
     "cell_type": "code",
     "collapsed": false,
     "input": [
      "test_size = 0\n",
      "train_size = len(nv_pbm_genomic_X)-test_size\n",
      "# Split the data into training/testing sets\n",
      "nv_pbm_genomic_X_train = nv_pbm_genomic_X[:train_size]\n",
      "nv_pbm_genomic_X_test = nv_pbm_genomic_X[train_size:train_size+test_size]\n",
      "\n",
      "# Split the targets into training/testing sets\n",
      "nv_pbm_genomic_y_train = nv_pbm_genomic_y[:train_size]\n",
      "nv_pbm_genomic_y_test = nv_pbm_genomic_y[train_size:train_size+test_size]\n",
      "\n",
      "# Create linear regression object\n",
      "#clf = linear_model.Lasso(alpha=0.004)\n",
      "clf = linear_model.LinearRegression()\n",
      "\n",
      "\n",
      "# Train the model using the training sets\n",
      "clf.fit(nv_pbm_genomic_X_train, nv_pbm_genomic_y_train)\n",
      "\n",
      "# The coefficients\n",
      "print('Coefficients: \\n', clf.coef_)\n",
      "# The mean square error\n",
      "#print(\"Residual sum of squares: %.2f\"\n",
      "#      % np.mean((clf.predict(nv_pbm_genomic_X_test) - nv_pbm_genomic_y_test) ** 2))\n",
      "print(\"Residual sum of squares: %.2f\"\n",
      "      % np.mean((clf.predict(nv_pbm_genomic_X_train) - nv_pbm_genomic_y_train) ** 2))\n",
      "# Explained variance score: 1 is perfect prediction\n",
      "#print('Variance score: %.2f' % clf.score(nv_pbm_genomic_X_test, nv_pbm_genomic_y_test))\n",
      "print('Variance score: %.2f' % clf.score(nv_pbm_genomic_X_train, nv_pbm_genomic_y_train))\n",
      "\n",
      "\n",
      "print(clf.intercept_)"
     ],
     "language": "python",
     "metadata": {},
     "outputs": [
      {
       "output_type": "stream",
       "stream": "stdout",
       "text": [
        "('Coefficients: \\n', array([ 0.19006175,  1.1724728 ,  2.96021324,  2.74696729,  1.23959208,\n",
        "        0.76528056,  2.35564271,  3.01791448,  1.50881991,  0.5059193 ]))\n",
        "Residual sum of squares: 1.84\n",
        "Variance score: 0.46\n",
        "0.296031539462\n"
       ]
      }
     ],
     "prompt_number": 97
    },
    {
     "cell_type": "markdown",
     "metadata": {},
     "source": [
      "Coefficients outputted are weights for each feature"
     ]
    },
    {
     "cell_type": "code",
     "collapsed": false,
     "input": [
      "len(nv_pbm_genomic_X)"
     ],
     "language": "python",
     "metadata": {},
     "outputs": [
      {
       "metadata": {},
       "output_type": "pyout",
       "prompt_number": 101,
       "text": [
        "17324"
       ]
      }
     ],
     "prompt_number": 101
    },
    {
     "cell_type": "code",
     "collapsed": false,
     "input": [
      "seq_to_G_features_1(\"AGGGATTCCCCT\")"
     ],
     "language": "python",
     "metadata": {},
     "outputs": [
      {
       "metadata": {},
       "output_type": "pyout",
       "prompt_number": 102,
       "text": [
        "[0, 0, 0, 0, 0, 0, 0, 0, 0, 0]"
       ]
      }
     ],
     "prompt_number": 102
    },
    {
     "cell_type": "heading",
     "level": 2,
     "metadata": {},
     "source": [
      "The error term:"
     ]
    },
    {
     "cell_type": "code",
     "collapsed": false,
     "input": [
      "clf.predict(seq_to_G_features_1(\"AGGGATTCCCCT\"))"
     ],
     "language": "python",
     "metadata": {},
     "outputs": [
      {
       "metadata": {},
       "output_type": "pyout",
       "prompt_number": 103,
       "text": [
        "0.29603153946186145"
       ]
      }
     ],
     "prompt_number": 103
    },
    {
     "cell_type": "code",
     "collapsed": false,
     "input": [
      "clf.predict(seq_to_G_features_1(\"GTGATTATCCCA\"))"
     ],
     "language": "python",
     "metadata": {},
     "outputs": [
      {
       "metadata": {},
       "output_type": "pyout",
       "prompt_number": 104,
       "text": [
        "0.48609329408969237"
       ]
      }
     ],
     "prompt_number": 104
    },
    {
     "cell_type": "code",
     "collapsed": false,
     "input": [
      "clf.predict(seq_to_G_features_1(\"TGGGATTTCCCA\"))"
     ],
     "language": "python",
     "metadata": {},
     "outputs": [
      {
       "metadata": {},
       "output_type": "pyout",
       "prompt_number": 105,
       "text": [
        "0.29603153946186145"
       ]
      }
     ],
     "prompt_number": 105
    },
    {
     "cell_type": "code",
     "collapsed": false,
     "input": [
      "nv_pbm_predicted.loc[nv_pbm_predicted.sequence== \"GGGATTCCCC\"]"
     ],
     "language": "python",
     "metadata": {},
     "outputs": [
      {
       "html": [
        "<div style=\"max-height:1000px;max-width:1500px;overflow:auto;\">\n",
        "<table border=\"1\" class=\"dataframe\">\n",
        "  <thead>\n",
        "    <tr style=\"text-align: right;\">\n",
        "      <th></th>\n",
        "      <th>probeID</th>\n",
        "      <th>sequence</th>\n",
        "      <th>nv_nfkb_c</th>\n",
        "      <th>nv_nfkb_s</th>\n",
        "      <th>hs_crel</th>\n",
        "      <th>hs_p50</th>\n",
        "    </tr>\n",
        "  </thead>\n",
        "  <tbody>\n",
        "    <tr>\n",
        "      <th>2200</th>\n",
        "      <td> t1000_n2074</td>\n",
        "      <td> GGGATTCCCC</td>\n",
        "      <td> 16.001684</td>\n",
        "      <td> 18.671441</td>\n",
        "      <td> 11.083861</td>\n",
        "      <td> 8.744914</td>\n",
        "    </tr>\n",
        "  </tbody>\n",
        "</table>\n",
        "</div>"
       ],
       "metadata": {},
       "output_type": "pyout",
       "prompt_number": 106,
       "text": [
        "          probeID    sequence  nv_nfkb_c  nv_nfkb_s    hs_crel    hs_p50\n",
        "2200  t1000_n2074  GGGATTCCCC  16.001684  18.671441  11.083861  8.744914"
       ]
      }
     ],
     "prompt_number": 106
    },
    {
     "cell_type": "code",
     "collapsed": false,
     "input": [
      "clf.predict(seq_to_G_features_1(\"AGGGAATTTTCCCT\"))"
     ],
     "language": "python",
     "metadata": {},
     "outputs": [
      {
       "metadata": {},
       "output_type": "pyout",
       "prompt_number": 107,
       "text": [
        "0.29603153946186145"
       ]
      }
     ],
     "prompt_number": 107
    },
    {
     "cell_type": "heading",
     "level": 2,
     "metadata": {},
     "source": [
      "Now test this on the human p50 ChIP dataset"
     ]
    },
    {
     "cell_type": "code",
     "collapsed": false,
     "input": [
      "from sklearn import metrics\n",
      "y = np.array([0,0,1,0,1,0,1,1,1,1,1,1,1,1,1,0,0,0,1,0])\n",
      "scores = np.array([3,6,14,7,9,10,1,0,2,21,16,5,6,7,8,5, 3, 4,17,1])\n",
      "#y = np.array([1,2,1,2])\n",
      "#scores = np.array([0.1,0.35,0.4,0.8])\n",
      "fpr, tpr, thresholds = metrics.roc_curve(y, scores, pos_label=1)\n",
      "\n",
      "def best_precision_index(y,thresholds,scores):\n",
      "    m = []\n",
      "    for threshold in thresholds:\n",
      "        y_pred =  []\n",
      "        for score in scores:\n",
      "            if score>=threshold: y_pred.append(1)\n",
      "            else: y_pred.append(0)\n",
      "        m.append(metrics.precision_score(y,y_pred))\n",
      "        #m.append(metrics.f1_score(y,y_pred,pos_label=1) )\n",
      "        #m.append(metrics.r2_score(y,y_pred))\n",
      "        #m.append(metrics.matthews_corrcoef(y,y_pred))\n",
      "    bmi = m.index(max(m))\n",
      "    #print bai\n",
      "    #print m[bai]\n",
      "    print \"Best Precision Score: \", m[bmi]\n",
      "    print \"Threshold Score: \", thresholds[bmi]\n",
      "    return bmi\n",
      "\n",
      "def best_f1_index(y,thresholds,scores):\n",
      "    m = []\n",
      "    for threshold in thresholds:\n",
      "        y_pred =  []\n",
      "        for score in scores:\n",
      "            if score>=threshold: y_pred.append(1)\n",
      "            else: y_pred.append(0)\n",
      "        #m.append(metrics.accuracy_score(y,y_pred))\n",
      "        m.append(metrics.f1_score(y,y_pred,pos_label=1) )\n",
      "        #m.append(metrics.r2_score(y,y_pred))\n",
      "        #m.append(metrics.matthews_corrcoef(y,y_pred))\n",
      "    bmi = m.index(max(m))\n",
      "    #print bai\n",
      "    #print m[bai]\n",
      "    print \"Best F1 : \", m[bmi]\n",
      "    print \"Threshold Score: \", thresholds[bmi]\n",
      "    return bmi\n",
      "\n",
      "\n",
      "def best_mcc_index(y,thresholds,scores):\n",
      "    m = []\n",
      "    for threshold in thresholds:\n",
      "        y_pred =  []\n",
      "        for score in scores:\n",
      "            if score>=threshold: y_pred.append(1)\n",
      "            else: y_pred.append(0)\n",
      "        #m.append(metrics.accuracy_score(y,y_pred))\n",
      "        #m.append(metrics.f1_score(y,y_pred,pos_label=1) )\n",
      "        #m.append(metrics.r2_score(y,y_pred))\n",
      "        m.append(metrics.matthews_corrcoef(y,y_pred))\n",
      "    bmi = m.index(max(m))\n",
      "    #print bai\n",
      "    #print m[bai]\n",
      "    print \"Best Matthews Correlation Coefficient: \", m[bmi]\n",
      "    print \"Threshold Score: \", thresholds[bmi]\n",
      "    return bmi\n",
      "\n",
      "def best_accuracy_index(y,thresholds,scores):\n",
      "    m = []\n",
      "    for threshold in thresholds:\n",
      "        y_pred =  []\n",
      "        for score in scores:\n",
      "            if score>=threshold: y_pred.append(1)\n",
      "            else: y_pred.append(0)\n",
      "        m.append(metrics.accuracy_score(y,y_pred))\n",
      "        #m.append(metrics.f1_score(y,y_pred,pos_label=1) )\n",
      "        #m.append(metrics.r2_score(y,y_pred))\n",
      "        #m.append(metrics.matthews_corrcoef(y,y_pred))\n",
      "    bai = m.index(max(m))\n",
      "    #print bai\n",
      "    #print m[bai]\n",
      "    print \"Best Accuracy: \", m[bai]\n",
      "    print \"Threshold Score: \", thresholds[bai]\n",
      "    return bai\n",
      "\n",
      "def best_youdenj_index(fpr,tpr,thresholds):\n",
      "    m=[]\n",
      "    for i in range(len(fpr)):\n",
      "        m.append(tpr[i]-fpr[i])\n",
      "    bji = m.index(max(m))\n",
      "    print \"Best Youden J: \", m[bji]\n",
      "    print \"Threshold Score: \", thresholds[bji]\n",
      "    return bji\n",
      "\n",
      "#metrics.jaccard_similarity_score\n",
      "roc_auc = metrics.auc(fpr,tpr)\n",
      "\n",
      "#print metrics.confusion_matrix(y,y)\n",
      "print fpr \n",
      "print tpr\n",
      "print thresholds\n",
      "print roc_auc"
     ],
     "language": "python",
     "metadata": {},
     "outputs": [
      {
       "output_type": "stream",
       "stream": "stdout",
       "text": [
        "[ 0.     0.     0.     0.     0.125  0.125  0.125  0.25   0.375  0.5    0.625\n",
        "  0.875  0.875  1.     1.   ]\n",
        "[ 0.08333333  0.16666667  0.25        0.33333333  0.33333333  0.41666667\n",
        "  0.5         0.58333333  0.66666667  0.75        0.75        0.75\n",
        "  0.83333333  0.91666667  1.        ]\n",
        "[21 17 16 14 10  9  8  7  6  5  4  3  2  1  0]\n",
        "0.666666666667\n"
       ]
      }
     ],
     "prompt_number": 109
    },
    {
     "cell_type": "code",
     "collapsed": true,
     "input": [
      "def plot_roc_curve(fpr,tpr,roc_auc,y,thresholds,scores,dataset_name = \"\"):\n",
      "    plt.figure(figsize=(10,10))\n",
      "    pd.options.display.mpl_style = 'default'\n",
      "    plt.plot(fpr, tpr, label='ROC Curve (AUC = %0.3f)' % roc_auc)\n",
      "    plt.plot([0, 1], [0, 1], 'k--')\n",
      "    mcc_threshold_index = best_mcc_index(y,thresholds,scores)\n",
      "    accuracy_threshold_index = best_accuracy_index(y,thresholds,scores)\n",
      "    precision_threshold_index = best_precision_index(y,thresholds,scores)\n",
      "    byji = best_youdenj_index(fpr,tpr,thresholds)\n",
      "    bfi = best_f1_index(y,thresholds,scores)\n",
      "    #print best_threshold_index\n",
      "    plt.plot(fpr[mcc_threshold_index], tpr[mcc_threshold_index], 'mD',label=\"Best MCC (%0.2f)\" %thresholds[mcc_threshold_index],alpha=0.75)\n",
      "    plt.plot(fpr[accuracy_threshold_index], tpr[accuracy_threshold_index], 'cs',label=\"Best Accuracy (%0.2f)\" %thresholds[accuracy_threshold_index],alpha=0.75)\n",
      "    plt.plot(fpr[precision_threshold_index], tpr[precision_threshold_index], 'b^',label=\"Best Precision (%0.2f)\" %thresholds[precision_threshold_index],alpha=0.75)\n",
      "    plt.plot(fpr[byji], tpr[byji], 'ro',label=\"Best Informedness (%0.2f)\" %thresholds[byji],alpha=0.75)\n",
      "    plt.plot(fpr[bfi], tpr[bfi], 'gv',label=\"Best F1 Score (%0.2f)\" %thresholds[bfi],alpha=0.75)\n",
      "\n",
      "    plt.xlim([-0.02, 1.02])\n",
      "    plt.ylim([-0.02, 1.02])\n",
      "    plt.xlabel('False Positive Rate')\n",
      "    plt.ylabel('True Positive Rate')\n",
      "    if dataset_name: plt.title('Receiver Operating Characteristic Curve for ' + dataset_name)\n",
      "    else:  plt.title('Receiver Operating Characteristic Curve')\n",
      "\n",
      "\n",
      "    #plt.legend(loc=\"lower right\")\n",
      "    plt.legend(bbox_to_anchor=(1.05, 1), loc=2, borderaxespad=0.,numpoints=1)\n",
      "    plt.show()\n",
      "plot_roc_curve(fpr,tpr,roc_auc,y,thresholds,scores)"
     ],
     "language": "python",
     "metadata": {},
     "outputs": [
      {
       "output_type": "stream",
       "stream": "stdout",
       "text": [
        "Best Matthews Correlation Coefficient:  0.408248290464\n",
        "Threshold Score:  14\n",
        "Best Accuracy:  0.65\n",
        "Threshold Score:  8\n",
        "Best Precision Score:  1.0\n",
        "Threshold Score:  21\n",
        "Best Youden J:  0.375\n",
        "Threshold Score:  8\n",
        "Best F1 :  0.75\n",
        "Threshold Score:  0\n"
       ]
      },
      {
       "metadata": {},
       "output_type": "display_data",
       "png": "[encoded data removed]",
       "text": [
        "<matplotlib.figure.Figure at 0x10b2ef550>"
       ]
      }
     ],
     "prompt_number": 110
    },
    {
     "cell_type": "code",
     "collapsed": true,
     "input": [
      "p50_pbm = nv_pbm_predicted[[\"sequence\",\"hs_p50\"]].copy(deep=True)\n",
      "p50_pbm.columns = [\"sequence\",\"z_score\"]\n",
      "p50_pbm.dropna(inplace=True)\n",
      "p50_pbm.reset_index(drop=True,inplace=True)\n",
      "p50_pbm.describe()"
     ],
     "language": "python",
     "metadata": {},
     "outputs": [
      {
       "html": [
        "<div style=\"max-height:1000px;max-width:1500px;overflow:auto;\">\n",
        "<table border=\"1\" class=\"dataframe\">\n",
        "  <thead>\n",
        "    <tr style=\"text-align: right;\">\n",
        "      <th></th>\n",
        "      <th>z_score</th>\n",
        "    </tr>\n",
        "  </thead>\n",
        "  <tbody>\n",
        "    <tr>\n",
        "      <th>count</th>\n",
        "      <td> 2535.000000</td>\n",
        "    </tr>\n",
        "    <tr>\n",
        "      <th>mean</th>\n",
        "      <td>    3.494234</td>\n",
        "    </tr>\n",
        "    <tr>\n",
        "      <th>std</th>\n",
        "      <td>    2.220347</td>\n",
        "    </tr>\n",
        "    <tr>\n",
        "      <th>min</th>\n",
        "      <td>   -1.297302</td>\n",
        "    </tr>\n",
        "    <tr>\n",
        "      <th>25%</th>\n",
        "      <td>    1.567626</td>\n",
        "    </tr>\n",
        "    <tr>\n",
        "      <th>50%</th>\n",
        "      <td>    3.694140</td>\n",
        "    </tr>\n",
        "    <tr>\n",
        "      <th>75%</th>\n",
        "      <td>    5.187876</td>\n",
        "    </tr>\n",
        "    <tr>\n",
        "      <th>max</th>\n",
        "      <td>    8.900386</td>\n",
        "    </tr>\n",
        "  </tbody>\n",
        "</table>\n",
        "</div>"
       ],
       "metadata": {},
       "output_type": "pyout",
       "prompt_number": 111,
       "text": [
        "           z_score\n",
        "count  2535.000000\n",
        "mean      3.494234\n",
        "std       2.220347\n",
        "min      -1.297302\n",
        "25%       1.567626\n",
        "50%       3.694140\n",
        "75%       5.187876\n",
        "max       8.900386"
       ]
      }
     ],
     "prompt_number": 111
    },
    {
     "cell_type": "code",
     "collapsed": false,
     "input": [
      "p50_pbm.describe()"
     ],
     "language": "python",
     "metadata": {},
     "outputs": [
      {
       "html": [
        "<div style=\"max-height:1000px;max-width:1500px;overflow:auto;\">\n",
        "<table border=\"1\" class=\"dataframe\">\n",
        "  <thead>\n",
        "    <tr style=\"text-align: right;\">\n",
        "      <th></th>\n",
        "      <th>z_score</th>\n",
        "    </tr>\n",
        "  </thead>\n",
        "  <tbody>\n",
        "    <tr>\n",
        "      <th>count</th>\n",
        "      <td> 2535.000000</td>\n",
        "    </tr>\n",
        "    <tr>\n",
        "      <th>mean</th>\n",
        "      <td>    3.494234</td>\n",
        "    </tr>\n",
        "    <tr>\n",
        "      <th>std</th>\n",
        "      <td>    2.220347</td>\n",
        "    </tr>\n",
        "    <tr>\n",
        "      <th>min</th>\n",
        "      <td>   -1.297302</td>\n",
        "    </tr>\n",
        "    <tr>\n",
        "      <th>25%</th>\n",
        "      <td>    1.567626</td>\n",
        "    </tr>\n",
        "    <tr>\n",
        "      <th>50%</th>\n",
        "      <td>    3.694140</td>\n",
        "    </tr>\n",
        "    <tr>\n",
        "      <th>75%</th>\n",
        "      <td>    5.187876</td>\n",
        "    </tr>\n",
        "    <tr>\n",
        "      <th>max</th>\n",
        "      <td>    8.900386</td>\n",
        "    </tr>\n",
        "  </tbody>\n",
        "</table>\n",
        "</div>"
       ],
       "metadata": {},
       "output_type": "pyout",
       "prompt_number": 112,
       "text": [
        "           z_score\n",
        "count  2535.000000\n",
        "mean      3.494234\n",
        "std       2.220347\n",
        "min      -1.297302\n",
        "25%       1.567626\n",
        "50%       3.694140\n",
        "75%       5.187876\n",
        "max       8.900386"
       ]
      }
     ],
     "prompt_number": 112
    },
    {
     "cell_type": "code",
     "collapsed": false,
     "input": [
      "def prob_occ(z,ztop,B):\n",
      "    return (np.exp(-ztop*B) / ( np.exp(-ztop*B) + np.exp(-z*B)) )"
     ],
     "language": "python",
     "metadata": {},
     "outputs": [],
     "prompt_number": 113
    },
    {
     "cell_type": "code",
     "collapsed": false,
     "input": [
      "p50_regions = pd.DataFrame(columns = [\"region_id\",\"bound1_unbound0\",\"p50_pbm_score\"])\n",
      "p50_bound_file = open(\"./p50_ChiP/p50_only_101regions.fa\",\"r\")\n",
      "\n",
      "\n",
      "\"\"\"\n",
      "#10mer scan\n",
      "def pbm_scan_seq(seq,p50_pbm):\n",
      "    motif_len =len(p50_pbm.sequence[0])\n",
      "    best_z_score = -100\n",
      "    matched_z_scores = []\n",
      "    sum = 0.0\n",
      "    \n",
      "    #hash sequence\n",
      "    lookup = defaultdict(list)\n",
      "    for i in range(len(seq)-motif_len+1):\n",
      "        key = seq[i:i+motif_len]#.upper()\n",
      "        lookup[key].append(i)\n",
      "    for i in range(len(p50_pbm)):\n",
      "        key = p50_pbm.sequence[i]\n",
      "        #note_to_self: do not iterate just check if it is non-empty\n",
      "        if lookup.get(key,[]):\n",
      "            if p50_pbm.z_score[i] > best_z_score: best_z_score = p50_pbm.z_score[i]\n",
      "            matched_z_scores.append(p50_pbm.z_score[i])\n",
      "            sum +=p50_pbm.z_score[i]\n",
      "    return best_z_score\n",
      "\"\"\"\n",
      "\n",
      "\n",
      "#12mer scan\n",
      "def pbm_scan_seq(seq,p50_pbm):\n",
      "    motif_len =len(p50_pbm.sequence[0])\n",
      "    best_z_score = -100\n",
      "    \n",
      "    #hash sequence\n",
      "    lookup = defaultdict(list)\n",
      "    for i in range(1,len(seq)-motif_len):#changed\n",
      "        key = seq[i:i+motif_len]#.upper()\n",
      "        lookup[key].append(i)\n",
      "    for i in range(len(p50_pbm)):\n",
      "        key = p50_pbm.sequence[i]\n",
      "        #note_to_self: do not iterate just check if it is non-empty\n",
      "        for j in lookup.get(key,[]):#changed\n",
      "            \n",
      "            flanked_10mer = seq[j-1:j+11]\n",
      "            \n",
      "            weight = clf.predict(seq_to_G_features_1(flanked_10mer))\n",
      "            pred_12mer_score = p50_pbm.z_score[i] + weight\n",
      "            \n",
      "            if pred_12mer_score > best_z_score: best_z_score = pred_12mer_score\n",
      "    return best_z_score\n",
      "\n",
      "\"\"\"\n",
      "#12mer scan with probabilities\n",
      "def pbm_scan_seq(seq,p50_pbm):\n",
      "    motif_len =len(p50_pbm.sequence[0])\n",
      "    matched_z_scores = []\n",
      "    \n",
      "    #hash sequence\n",
      "    lookup = defaultdict(list)\n",
      "    for i in range(1,len(seq)-motif_len):#changed\n",
      "        key = seq[i:i+motif_len]#.upper()\n",
      "        lookup[key].append(i)\n",
      "    for i in range(len(p50_pbm)):\n",
      "        #if p50_pbm.z_score[i]>4:\n",
      "\n",
      "        key = p50_pbm.sequence[i]\n",
      "        #note_to_self: do not iterate just check if it is non-empty\n",
      "        for j in lookup.get(key,[]):#changed\n",
      "\n",
      "            flanked_10mer = seq[j-1:j+11]\n",
      "\n",
      "            weight = clf.predict(seq_to_G_features_1(flanked_10mer))\n",
      "            pred_12mer_score = p50_pbm.z_score[i] + weight\n",
      "\n",
      "            #if pred_12mer_score> 6.0: \n",
      "            matched_z_scores.append(pred_12mer_score)\n",
      "\n",
      "    rc_seq = reverse_complement(seq)\n",
      "    lookup = defaultdict(list)\n",
      "    for i in range(1,len(rc_seq)-motif_len):#changed\n",
      "        key = rc_seq[i:i+motif_len]#.upper()\n",
      "        lookup[key].append(i)\n",
      "    for i in range(len(p50_pbm)):\n",
      "        #if p50_pbm.z_score[i]>4:\n",
      "\n",
      "        key = p50_pbm.sequence[i]\n",
      "        #note_to_self: do not iterate just check if it is non-empty\n",
      "        for j in lookup.get(key,[]):#changed\n",
      "\n",
      "\n",
      "\n",
      "            flanked_10mer = rc_seq[j-1:j+11]\n",
      "            weight = clf.predict(seq_to_G_features_1(flanked_10mer))\n",
      "            pred_12mer_score = p50_pbm.z_score[i] + weight\n",
      "\n",
      "            #if pred_12mer_score> 6.0: \n",
      "            matched_z_scores.append(pred_12mer_score)\n",
      "\n",
      "\n",
      "    #print matched_z_scores    \n",
      "    #prob_non_occ = 1.0\n",
      "    prob_non_occ = 0.0\n",
      "\n",
      "    B = 0.5\n",
      "    top_z = 31.9151537559\n",
      "    #top_z = 27.7145462046 #max(p50_pbm.z_score) + ---\n",
      "    #B= (1.0/top_z)/(1.0/(12.123960022721093  + 6.51036295425))\n",
      "\n",
      "    for z_score in matched_z_scores:\n",
      "        prob_non_occ += np.log(1.0 - prob_occ(z_score,top_z,B))\n",
      "    \n",
      "            \n",
      "    return (1.0 - np.exp(prob_non_occ))\n",
      "\"\"\"\n",
      "    #if len(matched_z_scores)>0:    return np.mean(matched_z_scores)\n",
      "    #else: return 0\n",
      "\n",
      "    #return sum\n",
      "#iterate through bound sequences\n",
      "#find matches\n",
      "#score matches\n",
      "#update dataFrame\n",
      "p50_bound_file.seek(0)\n",
      "\n",
      "seq_counter = 0\n",
      "\n",
      "seq_id = \"\"\n",
      "bound = 1\n",
      "p50_pbm_score = 0.0\n",
      "\n",
      "seq = \"\"\n",
      "\n",
      "#for line in p50_bound_file:\n",
      "while True:\n",
      "    id_line = p50_bound_file.readline().strip()    \n",
      "    if id_line.startswith(\">\"):\n",
      "        seq_id = id_line[1:-4]\n",
      "        seq_counter+=1\n",
      "        #get rest of the entry, i.e. the sequence\n",
      "        ##\n",
      "        seq = \"\"\n",
      "        last_pos = p50_bound_file.tell()\n",
      "        seq_line = p50_bound_file.readline().strip()\n",
      "        while not seq_line.startswith(\">\") and seq_line != \"\":\n",
      "            seq += seq_line\n",
      "            last_pos = p50_bound_file.tell()\n",
      "            seq_line = p50_bound_file.readline().strip()\n",
      "        p50_bound_file.seek(last_pos)\n",
      "        #calculate the score\n",
      "        ## do actual calculations here\n",
      "        \"\"\"\n",
      "        best_p50_pbm_score = pbm_scan_seq(seq,p50_pbm)\n",
      "        \"\"\"\n",
      "        p50_pbm_score = pbm_scan_seq(seq,p50_pbm)\n",
      "        rc_p50_pbm_score = pbm_scan_seq(reverse_complement(seq),p50_pbm)\n",
      "        best_p50_pbm_score = max([p50_pbm_score,rc_p50_pbm_score])\n",
      "        \n",
      "        #if p50_pbm_score>0 and rc_p50_pbm_score>0: best_p50_pbm_score = np.mean([p50_pbm_score,rc_p50_pbm_score])\n",
      "        #else:best_p50_pbm_score = max([p50_pbm_score,rc_p50_pbm_score])\n",
      "        \n",
      "        #best_p50_pbm_score = p50_pbm_score + rc_p50_pbm_score\n",
      "        \n",
      "        #add it to the dataframe\n",
      "        #make sure you are at the end of the entry \n",
      "        p50_regions = p50_regions.append( pd.DataFrame([[seq_id,bound,best_p50_pbm_score]],\\\n",
      "                                    columns= [\"region_id\",\"bound1_unbound0\",\"p50_pbm_score\"]),\\\n",
      "                                    ignore_index= True)\n",
      "    elif id_line == \"\":\n",
      "        break\n",
      "#print seq_counter   \n",
      "p50_bound_file.close()\n",
      "p50_regions\n",
      "p50_regions.describe()"
     ],
     "language": "python",
     "metadata": {},
     "outputs": [
      {
       "html": [
        "<div style=\"max-height:1000px;max-width:1500px;overflow:auto;\">\n",
        "<table border=\"1\" class=\"dataframe\">\n",
        "  <thead>\n",
        "    <tr style=\"text-align: right;\">\n",
        "      <th></th>\n",
        "      <th>bound1_unbound0</th>\n",
        "      <th>p50_pbm_score</th>\n",
        "    </tr>\n",
        "  </thead>\n",
        "  <tbody>\n",
        "    <tr>\n",
        "      <th>count</th>\n",
        "      <td> 101</td>\n",
        "      <td> 101.000000</td>\n",
        "    </tr>\n",
        "    <tr>\n",
        "      <th>mean</th>\n",
        "      <td>   1</td>\n",
        "      <td>   9.595594</td>\n",
        "    </tr>\n",
        "    <tr>\n",
        "      <th>std</th>\n",
        "      <td>   0</td>\n",
        "      <td>   1.475100</td>\n",
        "    </tr>\n",
        "    <tr>\n",
        "      <th>min</th>\n",
        "      <td>   1</td>\n",
        "      <td>   5.714306</td>\n",
        "    </tr>\n",
        "    <tr>\n",
        "      <th>25%</th>\n",
        "      <td>   1</td>\n",
        "      <td>   8.597404</td>\n",
        "    </tr>\n",
        "    <tr>\n",
        "      <th>50%</th>\n",
        "      <td>   1</td>\n",
        "      <td>   9.695191</td>\n",
        "    </tr>\n",
        "    <tr>\n",
        "      <th>75%</th>\n",
        "      <td>   1</td>\n",
        "      <td>  10.544346</td>\n",
        "    </tr>\n",
        "    <tr>\n",
        "      <th>max</th>\n",
        "      <td>   1</td>\n",
        "      <td>  12.702472</td>\n",
        "    </tr>\n",
        "  </tbody>\n",
        "</table>\n",
        "</div>"
       ],
       "metadata": {},
       "output_type": "pyout",
       "prompt_number": 114,
       "text": [
        "       bound1_unbound0  p50_pbm_score\n",
        "count              101     101.000000\n",
        "mean                 1       9.595594\n",
        "std                  0       1.475100\n",
        "min                  1       5.714306\n",
        "25%                  1       8.597404\n",
        "50%                  1       9.695191\n",
        "75%                  1      10.544346\n",
        "max                  1      12.702472"
       ]
      }
     ],
     "prompt_number": 114
    },
    {
     "cell_type": "code",
     "collapsed": false,
     "input": [
      "p50_unbound_file = open(\"./p50_ChiP/unbound_pval_0.5.fa\",\"r\")\n",
      "p50_unbound_file.seek(0)\n",
      "\n",
      "seq_counter = 0\n",
      "\n",
      "seq_id = \"\"\n",
      "bound = 0\n",
      "p50_pbm_score = 0.0\n",
      "\n",
      "seq = \"\"\n",
      "\n",
      "#for line in p50_bound_file:\n",
      "while True:\n",
      "    id_line = p50_unbound_file.readline().strip()    \n",
      "    if id_line.startswith(\">\"):\n",
      "        seq_id = id_line[1:-4]\n",
      "        seq_counter+=1\n",
      "        #get rest of the entry, i.e. the sequence\n",
      "        ##\n",
      "        seq = \"\"\n",
      "        last_pos = p50_unbound_file.tell()\n",
      "        seq_line = p50_unbound_file.readline().strip()\n",
      "        while not seq_line.startswith(\">\") and seq_line != \"\":\n",
      "            seq += seq_line\n",
      "            last_pos = p50_unbound_file.tell()\n",
      "            seq_line = p50_unbound_file.readline().strip()\n",
      "        p50_unbound_file.seek(last_pos)\n",
      "        #calculate the score\n",
      "        ## do actual calculations here\n",
      "        \"\"\"\n",
      "        best_p50_pbm_score = pbm_scan_seq(seq,p50_pbm)\n",
      "\n",
      "        \"\"\"\n",
      "        p50_pbm_score = pbm_scan_seq(seq,p50_pbm)\n",
      "        rc_p50_pbm_score = pbm_scan_seq(reverse_complement(seq),p50_pbm)\n",
      "        best_p50_pbm_score = max([p50_pbm_score,rc_p50_pbm_score])\n",
      "        \n",
      "        #if p50_pbm_score>0 and rc_p50_pbm_score>0: best_p50_pbm_score = np.mean([p50_pbm_score,rc_p50_pbm_score])\n",
      "        #else:best_p50_pbm_score = max([p50_pbm_score,rc_p50_pbm_score])\n",
      "        \n",
      "        #best_p50_pbm_score = p50_pbm_score+rc_p50_pbm_score\n",
      "\n",
      "        \n",
      "        #add it to the dataframe\n",
      "        #make sure you are at the end of the entry \n",
      "        p50_regions = p50_regions.append( pd.DataFrame([[seq_id,bound,best_p50_pbm_score]],\\\n",
      "                                    columns= [\"region_id\",\"bound1_unbound0\",\"p50_pbm_score\"]),\\\n",
      "                                    ignore_index= True)\n",
      "    elif id_line == \"\":\n",
      "        break\n",
      "#print seq_counter   \n",
      "p50_unbound_file.close()\n",
      "p50_regions.describe()\n",
      "p50_regions = p50_regions.dropna()\n",
      "p50_regions.reset_index(drop=True,inplace=True)\n",
      "p50_regions.describe()\n"
     ],
     "language": "python",
     "metadata": {},
     "outputs": [
      {
       "html": [
        "<div style=\"max-height:1000px;max-width:1500px;overflow:auto;\">\n",
        "<table border=\"1\" class=\"dataframe\">\n",
        "  <thead>\n",
        "    <tr style=\"text-align: right;\">\n",
        "      <th></th>\n",
        "      <th>bound1_unbound0</th>\n",
        "      <th>p50_pbm_score</th>\n",
        "    </tr>\n",
        "  </thead>\n",
        "  <tbody>\n",
        "    <tr>\n",
        "      <th>count</th>\n",
        "      <td> 8296.000000</td>\n",
        "      <td> 8296.000000</td>\n",
        "    </tr>\n",
        "    <tr>\n",
        "      <th>mean</th>\n",
        "      <td>    0.012175</td>\n",
        "      <td>    6.722701</td>\n",
        "    </tr>\n",
        "    <tr>\n",
        "      <th>std</th>\n",
        "      <td>    0.109671</td>\n",
        "      <td>    8.226989</td>\n",
        "    </tr>\n",
        "    <tr>\n",
        "      <th>min</th>\n",
        "      <td>    0.000000</td>\n",
        "      <td> -100.000000</td>\n",
        "    </tr>\n",
        "    <tr>\n",
        "      <th>25%</th>\n",
        "      <td>    0.000000</td>\n",
        "      <td>    6.243045</td>\n",
        "    </tr>\n",
        "    <tr>\n",
        "      <th>50%</th>\n",
        "      <td>    0.000000</td>\n",
        "      <td>    7.370678</td>\n",
        "    </tr>\n",
        "    <tr>\n",
        "      <th>75%</th>\n",
        "      <td>    0.000000</td>\n",
        "      <td>    8.402497</td>\n",
        "    </tr>\n",
        "    <tr>\n",
        "      <th>max</th>\n",
        "      <td>    1.000000</td>\n",
        "      <td>   12.702472</td>\n",
        "    </tr>\n",
        "  </tbody>\n",
        "</table>\n",
        "</div>"
       ],
       "metadata": {},
       "output_type": "pyout",
       "prompt_number": 115,
       "text": [
        "       bound1_unbound0  p50_pbm_score\n",
        "count      8296.000000    8296.000000\n",
        "mean          0.012175       6.722701\n",
        "std           0.109671       8.226989\n",
        "min           0.000000    -100.000000\n",
        "25%           0.000000       6.243045\n",
        "50%           0.000000       7.370678\n",
        "75%           0.000000       8.402497\n",
        "max           1.000000      12.702472"
       ]
      }
     ],
     "prompt_number": 115
    },
    {
     "cell_type": "code",
     "collapsed": false,
     "input": [
      "y = np.array(p50_regions.bound1_unbound0)\n",
      "scores = np.array(p50_regions.p50_pbm_score)\n",
      "fpr, tpr, thresholds = metrics.roc_curve(y, scores, pos_label=1)\n",
      "roc_auc = metrics.auc(fpr,tpr)\n",
      "plot_roc_curve(fpr,tpr,roc_auc,y,thresholds,scores)"
     ],
     "language": "python",
     "metadata": {},
     "outputs": [
      {
       "output_type": "stream",
       "stream": "stdout",
       "text": [
        "Best Matthews Correlation Coefficient:  0.201979032815\n",
        "Threshold Score:  9.40731076878\n",
        "Best Accuracy: "
       ]
      },
      {
       "output_type": "stream",
       "stream": "stdout",
       "text": [
        " 0.987825458052\n",
        "Threshold Score:  13.7024723414\n",
        "Best Precision Score: "
       ]
      },
      {
       "output_type": "stream",
       "stream": "stderr",
       "text": [
        "/Users/oryoruk/anaconda/lib/python2.7/site-packages/sklearn/metrics/metrics.py:1771: UndefinedMetricWarning: Precision is ill-defined and being set to 0.0 due to no predicted samples.\n",
        "  'precision', 'predicted', average, warn_for)\n",
        "/Users/oryoruk/anaconda/lib/python2.7/site-packages/sklearn/metrics/metrics.py:1771: UndefinedMetricWarning: F-score is ill-defined and being set to 0.0 due to no predicted samples.\n",
        "  'precision', 'predicted', average, warn_for)\n"
       ]
      },
      {
       "output_type": "stream",
       "stream": "stdout",
       "text": [
        " 0.174603174603\n",
        "Threshold Score:  11.5689348278\n",
        "Best Youden J:  0.567955587505\n",
        "Threshold Score:  8.72893852505\n",
        "Best F1 : "
       ]
      },
      {
       "output_type": "stream",
       "stream": "stdout",
       "text": [
        " 0.175115207373\n",
        "Threshold Score:  10.2009739632\n"
       ]
      },
      {
       "metadata": {},
       "output_type": "display_data",
       "png": "[encoded data removed]",
       "text": [
        "<matplotlib.figure.Figure at 0x10ad2db90>"
       ]
      }
     ],
     "prompt_number": 116
    },
    {
     "cell_type": "code",
     "collapsed": false,
     "input": [],
     "language": "python",
     "metadata": {},
     "outputs": []
    }
   ],
   "metadata": {}
  }
 ]
}